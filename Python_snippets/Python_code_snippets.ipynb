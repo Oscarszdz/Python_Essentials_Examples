{
 "cells": [
  {
   "cell_type": "markdown",
   "id": "bfeb304ae5df729f",
   "metadata": {},
   "source": [
    "# 20 Python codes snippets that may be useful for everyday problems\n",
    "Examples from [clcoding.com](https://twitter.com/clcoding/status/1691100950008565760)"
   ]
  },
  {
   "cell_type": "markdown",
   "id": "37f317cdb3af51ff",
   "metadata": {},
   "source": [
    "### 1. Reversing a string"
   ]
  },
  {
   "cell_type": "code",
   "execution_count": 3,
   "id": "9abd45f44d71df9a",
   "metadata": {
    "ExecuteTime": {
     "end_time": "2023-08-20T00:49:42.516365388Z",
     "start_time": "2023-08-20T00:49:42.411451304Z"
    }
   },
   "outputs": [
    {
     "name": "stdout",
     "output_type": "stream",
     "text": [
      "onaloS zehcnáS ailimaF\n"
     ]
    }
   ],
   "source": [
    "string = 'Familia Sánchez Solano'\n",
    "reversed_string = string[::-1]\n",
    "print(reversed_string)"
   ]
  },
  {
   "cell_type": "markdown",
   "id": "e97dc43ff66c9af1",
   "metadata": {},
   "source": [
    "### 2. Checking if a string contains a substring"
   ]
  },
  {
   "cell_type": "code",
   "execution_count": 4,
   "id": "c10aac9e1d8c73d6",
   "metadata": {
    "ExecuteTime": {
     "end_time": "2023-08-20T00:49:42.516816842Z",
     "start_time": "2023-08-20T00:49:42.411647110Z"
    }
   },
   "outputs": [
    {
     "name": "stdout",
     "output_type": "stream",
     "text": [
      "Substring found!\n"
     ]
    }
   ],
   "source": [
    "string = \"Arantxa Mayte Sánchez Solano\"\n",
    "substring = \"Mayte\"\n",
    "\n",
    "if substring in string:\n",
    "    print('Substring found!')"
   ]
  },
  {
   "cell_type": "markdown",
   "id": "ac16dc552055f8f6",
   "metadata": {},
   "source": [
    "### 3. Finding the maximum value in a list"
   ]
  },
  {
   "cell_type": "code",
   "execution_count": 5,
   "id": "ec48ed8a7366f851",
   "metadata": {
    "ExecuteTime": {
     "end_time": "2023-08-20T00:49:42.517010728Z",
     "start_time": "2023-08-20T00:49:42.411798275Z"
    }
   },
   "outputs": [
    {
     "name": "stdout",
     "output_type": "stream",
     "text": [
      "9\n"
     ]
    }
   ],
   "source": [
    "my_list = [1, 5, 3, 9, 2]\n",
    "max_value = max(my_list)\n",
    "print(max_value)"
   ]
  },
  {
   "cell_type": "markdown",
   "id": "321c3d778a63df98",
   "metadata": {},
   "source": [
    "### 4. Finding the index of the maximum value in a list"
   ]
  },
  {
   "cell_type": "code",
   "execution_count": 6,
   "id": "621ba6f9f123a734",
   "metadata": {
    "ExecuteTime": {
     "end_time": "2023-08-20T00:49:42.517193574Z",
     "start_time": "2023-08-20T00:49:42.411909428Z"
    }
   },
   "outputs": [
    {
     "name": "stdout",
     "output_type": "stream",
     "text": [
      "3\n"
     ]
    }
   ],
   "source": [
    "my_list = [1, 5, 3, 9, 2]\n",
    "max_index = my_list.index(max(my_list))\n",
    "print(max_index)"
   ]
  },
  {
   "cell_type": "markdown",
   "id": "27db43d10c678464",
   "metadata": {},
   "source": [
    "### 5. Reversing a list"
   ]
  },
  {
   "cell_type": "code",
   "execution_count": 7,
   "id": "5fbea2933837ef18",
   "metadata": {
    "ExecuteTime": {
     "end_time": "2023-08-20T00:49:42.517409570Z",
     "start_time": "2023-08-20T00:49:42.412020982Z"
    }
   },
   "outputs": [
    {
     "name": "stdout",
     "output_type": "stream",
     "text": [
      "[2, 9, 3, 5, 1]\n"
     ]
    }
   ],
   "source": [
    "my_list = [1, 5, 3, 9, 2]\n",
    "reversed_list = my_list[::-1]\n",
    "print(reversed_list)"
   ]
  },
  {
   "cell_type": "markdown",
   "id": "60b76a621dbda1c2",
   "metadata": {},
   "source": [
    "### 6. Removing duplicates from a list"
   ]
  },
  {
   "cell_type": "code",
   "execution_count": 8,
   "id": "4e56793df91844dc",
   "metadata": {
    "ExecuteTime": {
     "end_time": "2023-08-20T00:49:42.517578985Z",
     "start_time": "2023-08-20T00:49:42.425857447Z"
    }
   },
   "outputs": [
    {
     "name": "stdout",
     "output_type": "stream",
     "text": [
      "[1, 2, 3, 4, 5]\n"
     ]
    }
   ],
   "source": [
    "my_list = [1, 2, 3, 2, 1, 4, 5, 4]\n",
    "my_list = list(set(my_list))\n",
    "print(my_list)"
   ]
  },
  {
   "cell_type": "markdown",
   "id": "aa0bc770f3d3c98b",
   "metadata": {},
   "source": [
    "### 7. Checking if a list is empty"
   ]
  },
  {
   "cell_type": "code",
   "execution_count": 9,
   "id": "fa280bf5b5d393a1",
   "metadata": {
    "ExecuteTime": {
     "end_time": "2023-08-20T00:49:42.517825733Z",
     "start_time": "2023-08-20T00:49:42.426004411Z"
    }
   },
   "outputs": [
    {
     "name": "stdout",
     "output_type": "stream",
     "text": [
      "List is empty!\n"
     ]
    }
   ],
   "source": [
    "my_list = []\n",
    "\n",
    "if not my_list:\n",
    "    print(\"List is empty!\")"
   ]
  },
  {
   "cell_type": "markdown",
   "id": "c9e7aff72c2af0ba",
   "metadata": {},
   "source": [
    "### 8. Converting a string to a list"
   ]
  },
  {
   "cell_type": "code",
   "execution_count": 10,
   "id": "6213017b5e47dae4",
   "metadata": {
    "ExecuteTime": {
     "end_time": "2023-08-20T00:49:42.518003309Z",
     "start_time": "2023-08-20T00:49:42.426129965Z"
    }
   },
   "outputs": [
    {
     "name": "stdout",
     "output_type": "stream",
     "text": [
      "['A', 'r', 'a', 'n', 't', 'x', 'a', ' ', 'M', 'a', 'y', 't', 'e', ' ', 'S', 'á', 'n', 'c', 'h', 'e', 'z', ' ', 'S', 'o', 'l', 'a', 'n', 'o']\n"
     ]
    }
   ],
   "source": [
    "string = \"Arantxa Mayte Sánchez Solano\"\n",
    "my_list = list(string)\n",
    "print(my_list)"
   ]
  },
  {
   "cell_type": "markdown",
   "id": "ee512e2438e7bf0a",
   "metadata": {},
   "source": [
    "### 9. Sorting a dictionary by value"
   ]
  },
  {
   "cell_type": "code",
   "execution_count": 11,
   "id": "ed107fa378334ab2",
   "metadata": {
    "ExecuteTime": {
     "end_time": "2023-08-20T00:49:42.518169834Z",
     "start_time": "2023-08-20T00:49:42.426242169Z"
    }
   },
   "outputs": [
    {
     "name": "stdout",
     "output_type": "stream",
     "text": [
      "{'banana': 1, 'orange': 2, 'apple': 3}\n"
     ]
    }
   ],
   "source": [
    "my_dict = {\"apple\": 3, \"banana\": 1, \"orange\": 2}\n",
    "sorted_dict = {k:v for k, v in sorted(my_dict.items(), key=lambda item: item[1])}\n",
    "print(sorted_dict)"
   ]
  },
  {
   "cell_type": "markdown",
   "id": "c995c8c2be735162",
   "metadata": {},
   "source": [
    "### 10. Checking if a file exists"
   ]
  },
  {
   "cell_type": "code",
   "execution_count": 12,
   "id": "f8677d6ed41e7c9",
   "metadata": {
    "ExecuteTime": {
     "end_time": "2023-08-20T00:49:42.518329339Z",
     "start_time": "2023-08-20T00:49:42.426357903Z"
    }
   },
   "outputs": [
    {
     "name": "stdout",
     "output_type": "stream",
     "text": [
      "File exists!\n"
     ]
    }
   ],
   "source": [
    "import os\n",
    "\n",
    "if os.path.isfile('Python_code_snippets.ipynb'):\n",
    "    print(\"File exists!\")"
   ]
  },
  {
   "cell_type": "markdown",
   "id": "dc7fda2b0f8ff93e",
   "metadata": {},
   "source": [
    "### 11. Counting occurrences of an item in a list:"
   ]
  },
  {
   "cell_type": "code",
   "execution_count": 13,
   "id": "c296b3cbd37b9184",
   "metadata": {
    "ExecuteTime": {
     "end_time": "2023-08-20T00:49:42.518512244Z",
     "start_time": "2023-08-20T00:49:42.426502377Z"
    }
   },
   "outputs": [
    {
     "name": "stdout",
     "output_type": "stream",
     "text": [
      "1\n"
     ]
    }
   ],
   "source": [
    "my_list = [1, 2, 3, 2, 1, 4, 5, 4]\n",
    "count = my_list.count(5)\n",
    "print(count)"
   ]
  },
  {
   "cell_type": "markdown",
   "id": "f0456e1d396014d7",
   "metadata": {},
   "source": [
    "### 12. Checking if all elements in a list are unique"
   ]
  },
  {
   "cell_type": "code",
   "execution_count": 14,
   "id": "a2daf2152c38dda0",
   "metadata": {
    "ExecuteTime": {
     "end_time": "2023-08-20T00:49:42.518692390Z",
     "start_time": "2023-08-20T00:49:42.441392975Z"
    }
   },
   "outputs": [
    {
     "name": "stdout",
     "output_type": "stream",
     "text": [
      "All elements are unique!\n"
     ]
    }
   ],
   "source": [
    "my_list = [1, 2, 3, 4 ,5]\n",
    "if len(my_list) == len(set(my_list)):\n",
    "    print(\"All elements are unique!\")\n",
    "else:\n",
    "    print(\"Not all elements are unique!\")"
   ]
  },
  {
   "cell_type": "markdown",
   "id": "7caf9a016ec500b4",
   "metadata": {},
   "source": [
    "### 13. Removing all occurrences of an item from a list"
   ]
  },
  {
   "cell_type": "code",
   "execution_count": 15,
   "id": "f9171bd12c051e6f",
   "metadata": {
    "ExecuteTime": {
     "end_time": "2023-08-20T00:49:42.518859615Z",
     "start_time": "2023-08-20T00:49:42.441594011Z"
    }
   },
   "outputs": [
    {
     "name": "stdout",
     "output_type": "stream",
     "text": [
      "[1, 3, 1, 4, 5, 4]\n"
     ]
    }
   ],
   "source": [
    "my_list = [1, 2, 3, 2, 1, 4, 5, 4]\n",
    "item = 2\n",
    "my_list = [x for x in my_list if x != item]\n",
    "print(my_list)"
   ]
  },
  {
   "cell_type": "markdown",
   "id": "86faf992a96f0356",
   "metadata": {},
   "source": [
    "### 14. Flattening a nested list"
   ]
  },
  {
   "cell_type": "code",
   "execution_count": 16,
   "id": "9975e99b892a3ca5",
   "metadata": {
    "ExecuteTime": {
     "end_time": "2023-08-20T00:49:42.519021280Z",
     "start_time": "2023-08-20T00:49:42.441747566Z"
    }
   },
   "outputs": [
    {
     "name": "stdout",
     "output_type": "stream",
     "text": [
      "[1, 2, 3, 4, 5, 6]\n"
     ]
    }
   ],
   "source": [
    "my_list = [[1, 2], [3, 4], [5, 6]]\n",
    "flattened_list = [x for sublist in my_list for x in sublist]\n",
    "print(flattened_list)"
   ]
  },
  {
   "cell_type": "markdown",
   "id": "46523a66712efb18",
   "metadata": {},
   "source": [
    "### 15. Merging two dictionaries"
   ]
  },
  {
   "cell_type": "code",
   "execution_count": 17,
   "id": "698474fb0fa2cf02",
   "metadata": {
    "ExecuteTime": {
     "end_time": "2023-08-20T00:49:42.519422543Z",
     "start_time": "2023-08-20T00:49:42.441876760Z"
    }
   },
   "outputs": [
    {
     "name": "stdout",
     "output_type": "stream",
     "text": [
      "{'apple': 3, 'banana': 1, 'orange': 2, 'pear': 4}\n"
     ]
    }
   ],
   "source": [
    "dict1 = {\"apple\": 3, \"banana\": 1}\n",
    "dict2 = {\"orange\": 2, \"pear\": 4}\n",
    "\n",
    "merged_dict = {**dict1, **dict2}\n",
    "print(merged_dict)"
   ]
  },
  {
   "cell_type": "code",
   "execution_count": 18,
   "id": "d69fa5dba4c1a77a",
   "metadata": {
    "ExecuteTime": {
     "end_time": "2023-08-20T00:49:42.520311081Z",
     "start_time": "2023-08-20T00:49:42.442065536Z"
    }
   },
   "outputs": [
    {
     "name": "stdout",
     "output_type": "stream",
     "text": [
      "{'apple': 3, 'banana': 1, 'orange': 2, 'pear': 4}\n",
      "{'banana': 1, 'orange': 2, 'apple': 3, 'pear': 4}\n"
     ]
    }
   ],
   "source": [
    "sorted_dict_key = {k: v for k, v in sorted(merged_dict.items(), key=lambda item:item[0])}\n",
    "sorted_dict_value = {k: v for k, v in sorted(merged_dict.items(), key=lambda item:item[1])}\n",
    "print(sorted_dict_key)\n",
    "print(sorted_dict_value)"
   ]
  },
  {
   "cell_type": "markdown",
   "id": "521fc21181ab041d",
   "metadata": {},
   "source": [
    "### 16. Removing all whitespace from a string"
   ]
  },
  {
   "cell_type": "code",
   "execution_count": 19,
   "id": "9e4a93047472e18f",
   "metadata": {
    "ExecuteTime": {
     "end_time": "2023-08-20T00:49:42.520503877Z",
     "start_time": "2023-08-20T00:49:42.483230208Z"
    }
   },
   "outputs": [
    {
     "name": "stdout",
     "output_type": "stream",
     "text": [
      "ArantxaMayte\n"
     ]
    }
   ],
   "source": [
    "string = \"       Arantxa              Mayte                 \"\n",
    "new_string = \"\".join(string.split())\n",
    "print(new_string)"
   ]
  },
  {
   "cell_type": "markdown",
   "id": "81c507722475e134",
   "metadata": {},
   "source": [
    "### 17. Checking if a string is a palindrome"
   ]
  },
  {
   "cell_type": "code",
   "execution_count": 20,
   "id": "8074352895d7f1cb",
   "metadata": {
    "ExecuteTime": {
     "end_time": "2023-08-20T00:49:42.520669642Z",
     "start_time": "2023-08-20T00:49:42.483423774Z"
    }
   },
   "outputs": [
    {
     "name": "stdout",
     "output_type": "stream",
     "text": [
      "anitalavalatina is a palindrome!.\n"
     ]
    }
   ],
   "source": [
    "# string = \"racecar\"\n",
    "string = \"anitalavalatina\"\n",
    "\n",
    "if string == string[::-1]:\n",
    "    print(f\"{string} is a palindrome!.\")"
   ]
  },
  {
   "cell_type": "markdown",
   "id": "cc11b09919179e88",
   "metadata": {},
   "source": [
    "### 18. Removing duplicates from string"
   ]
  },
  {
   "cell_type": "code",
   "execution_count": 21,
   "id": "5b2dba358e67e6b3",
   "metadata": {
    "ExecuteTime": {
     "end_time": "2023-08-20T00:49:42.520829357Z",
     "start_time": "2023-08-20T00:49:42.483572569Z"
    }
   },
   "outputs": [
    {
     "name": "stdout",
     "output_type": "stream",
     "text": [
      "lrdhe wo\n"
     ]
    }
   ],
   "source": [
    "string = \"hello world\"\n",
    "new_string = \"\".join(set(string))\n",
    "print(new_string)"
   ]
  },
  {
   "cell_type": "markdown",
   "id": "250918822d7b58a2",
   "metadata": {},
   "source": [
    "### 19. Counting the number of words in a string"
   ]
  },
  {
   "cell_type": "code",
   "execution_count": 22,
   "id": "bd695108150229d5",
   "metadata": {
    "ExecuteTime": {
     "end_time": "2023-08-20T00:49:42.520985772Z",
     "start_time": "2023-08-20T00:49:42.483692212Z"
    }
   },
   "outputs": [
    {
     "name": "stdout",
     "output_type": "stream",
     "text": [
      "4\n"
     ]
    }
   ],
   "source": [
    "string = \"Arantxa Mayte Sánchez Solano\"\n",
    "word_count = len(string.split())\n",
    "print(word_count)"
   ]
  },
  {
   "cell_type": "markdown",
   "id": "ade45a26ec6f24e5",
   "metadata": {},
   "source": [
    "### 20. Generating a random integer"
   ]
  },
  {
   "cell_type": "code",
   "execution_count": 23,
   "id": "5909278a18ec0ae0",
   "metadata": {
    "ExecuteTime": {
     "end_time": "2023-08-20T00:49:42.523999417Z",
     "start_time": "2023-08-20T00:49:42.483806086Z"
    }
   },
   "outputs": [
    {
     "name": "stdout",
     "output_type": "stream",
     "text": [
      "5\n"
     ]
    }
   ],
   "source": [
    "import random\n",
    "\n",
    "random_number = random.randint(1, 10)\n",
    "print(random_number)"
   ]
  }
 ],
 "metadata": {
  "kernelspec": {
   "display_name": "Python 3 (ipykernel)",
   "language": "python",
   "name": "python3"
  },
  "language_info": {
   "codemirror_mode": {
    "name": "ipython",
    "version": 3
   },
   "file_extension": ".py",
   "mimetype": "text/x-python",
   "name": "python",
   "nbconvert_exporter": "python",
   "pygments_lexer": "ipython3",
   "version": "3.9.15"
  }
 },
 "nbformat": 4,
 "nbformat_minor": 5
}
